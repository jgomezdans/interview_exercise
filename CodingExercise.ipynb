{
 "cells": [
  {
   "cell_type": "markdown",
   "metadata": {},
   "source": [
    "# Coding exercise\n",
    "\n",
    "In this exercise, you'll be expected to fit a simple first-order linear model (e.g. $y=m\\cdot x + c$) that relates the monthly value of El Niño 3.4 index to MODIS-derived fire counts (e.g. number of thermal anomalies detected by the MODIS mounted on the TERRA platform). Both datasets are provided for you.\n",
    "\n",
    "## The ENSO (Niña 3.4) data\n",
    "\n",
    "The ENSO data is provided as a [CSV file](data/nina34.csv). The file format is easily readable, but in summary...\n",
    "1. The first line contains the start and end year of the dataset\n",
    "2. Each line contains the monthly value of the index (from January to December) for every year in the record.\n",
    "3. Missing data are noted by the value -99.99\n",
    "4. The last three lines provide you with some additional information of where the data was acquired from\n",
    "\n",
    "## The fire counts data\n",
    "\n",
    "Since it'd be cumbersome to fit a model to every month, for each year, we have calculated the \"peak fire month\" (e.g. the month which on average tends to have the biggest number of fires) and the number of fire counts on that month per year. All the fire data has been aggregated to a 5 degree grid.\n",
    "\n",
    "The peak fire month is available as a single band georeferenced GeoTIFF file with name [`data/peak_fire_month`](data/peak_fire_month.tif). \n",
    "\n",
    "The fire counts data is provided as a georeferenced GeoTIFF file with name [`data/FireCounts_2001_2016.tif`](data/FireCounts_2001_2016.tif). Each band represents the fire counts on the most fire active month for every year. \n",
    "\n",
    "\n",
    "## Fitting the model\n",
    "\n",
    "We assume that the relationship between fire counts and the ENSO index at the peak fire month can be approximated by a linear function, e.g. \n",
    "\n",
    "$$\n",
    "N_{fires} = m\\cdot ENSO_{\\textrm{@peak month}} + c\n",
    "$$\n",
    "\n",
    "You ought to be able to solve this linear problem as a matrix, and solve it as a matrix (e.g. without using any higher order package.\n",
    "\n",
    "\n",
    "## Deliverables\n",
    "\n",
    "The aim of this exercise is \n",
    "\n",
    "1. to fit a linear model model to the observations from 2001 to 2016,\n",
    "2. to provide an estimate of the slope and intercept (possibly with associated uncertainties  in the parameters), \n",
    "3. to check the quality of the fit, as well as illustrating the model fitting with adequate plots (e.g. scatter plot, line of best fit, 1:1 line, etc.). \n",
    "\n",
    "The fit will be performed on the following grid cells:\n",
    "\n",
    "* `row, col =>` 21, 28\n",
    "* `row, col =>` 19, 64\n",
    "* `row, col =>` 18, 20\n",
    "\n",
    "A function named `extract_fire_counts_peak_fire` is provided to extract the time series and the peak fire month for a given location. The ENSO data are given as a CSV file, and you'll have to extract the relevant data from it.\n",
    "\n",
    "\n",
    "## Installed software\n",
    "\n",
    "The software installed in this instance are\n",
    "\n",
    "* numpy\n",
    "* scipy\n",
    "* matplotlib\n",
    "* gdal\n",
    "* pandas\n",
    "\n",
    "Additionally, all other standard Python 3.6+ modules are available.\n",
    "\n"
   ]
  },
  {
   "cell_type": "code",
   "execution_count": 1,
   "metadata": {},
   "outputs": [],
   "source": [
    "import numpy as np\n",
    "from osgeo import gdal\n",
    "import matplotlib.pyplot as plt\n",
    "%matplotlib inline\n",
    "gdal.UseExceptions()\n",
    "\n",
    "\n",
    "def extract_fire_counts_peak_fire(row,\n",
    "                                  col,\n",
    "                                  fire_cnts_f=\"data/FireCounts_2001_2016.tif\",\n",
    "                                  peak_month_f=\"data/peak_fire_month.tif\"):\n",
    "    \"\"\"A function that will retrieve a time series of fire counts for a given\n",
    "    row/column, together with the peak fire month (1 would be January, 12\n",
    "    would be december).\n",
    "\n",
    "    Parameters\n",
    "    ----------\n",
    "    row: int\n",
    "         The desired row. Internally checked to be consistent with data\n",
    "    col: int\n",
    "        The desired column. Internally checked to be consistent with data\n",
    "\n",
    "    Returns\n",
    "    -------\n",
    "    A tuple with the first element being a 16 element array with the number\n",
    "    of fire counts for the years 2001 to 2016, and a second element being an\n",
    "    integer with the peak fire month. If there's no  data (e.g. oceans), it'll\n",
    "    return 255.\n",
    "    \"\"\"\n",
    "    assert ((row >= 0) and (row <= 36)), \"row needs to be between 0 and 36\"\n",
    "    assert ((col >= 0) and (col <= 72)), \"col needs to be between 0 and 72\"\n",
    "    g = gdal.Open(fire_cnts_f)\n",
    "    f_counts = g.ReadAsArray()\n",
    "    f_counts = f_counts[:, row, col]\n",
    "    g = gdal.Open(peak_month_f)\n",
    "    pk_fire_month = g.ReadAsArray()[row, col]\n",
    "    return f_counts, pk_fire_month"
   ]
  },
  {
   "cell_type": "code",
   "execution_count": null,
   "metadata": {},
   "outputs": [],
   "source": []
  }
 ],
 "metadata": {
  "kernelspec": {
   "display_name": "Python 3",
   "language": "python",
   "name": "python3"
  },
  "language_info": {
   "codemirror_mode": {
    "name": "ipython",
    "version": 3
   },
   "file_extension": ".py",
   "mimetype": "text/x-python",
   "name": "python",
   "nbconvert_exporter": "python",
   "pygments_lexer": "ipython3",
   "version": "3.6.7"
  },
  "latex_envs": {
   "LaTeX_envs_menu_present": true,
   "autoclose": false,
   "autocomplete": true,
   "bibliofile": "biblio.bib",
   "cite_by": "apalike",
   "current_citInitial": 1,
   "eqLabelWithNumbers": true,
   "eqNumInitial": 1,
   "hotkeys": {
    "equation": "Ctrl-E",
    "itemize": "Ctrl-I"
   },
   "labels_anchors": false,
   "latex_user_defs": false,
   "report_style_numbering": false,
   "user_envs_cfg": false
  },
  "varInspector": {
   "cols": {
    "lenName": 16,
    "lenType": 16,
    "lenVar": 40
   },
   "kernels_config": {
    "python": {
     "delete_cmd_postfix": "",
     "delete_cmd_prefix": "del ",
     "library": "var_list.py",
     "varRefreshCmd": "print(var_dic_list())"
    },
    "r": {
     "delete_cmd_postfix": ") ",
     "delete_cmd_prefix": "rm(",
     "library": "var_list.r",
     "varRefreshCmd": "cat(var_dic_list()) "
    }
   },
   "types_to_exclude": [
    "module",
    "function",
    "builtin_function_or_method",
    "instance",
    "_Feature"
   ],
   "window_display": false
  }
 },
 "nbformat": 4,
 "nbformat_minor": 2
}
