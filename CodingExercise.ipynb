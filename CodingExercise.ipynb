{
 "cells": [
  {
   "cell_type": "markdown",
   "metadata": {},
   "source": [
    "# Coding exercise\n",
    "\n",
    "In this exercise, you'll be expected to fit a simple first-order linear model (e.g. $y=m\\cdot x + c$) that relates the monthly value of El Niño 3.4 index to MODIS-derived fire counts (e.g. number of thermal anomalies detected by the MODIS mounted on the TERRA platform). Both datasets are provided for you.\n",
    "\n",
    "## The ENSO (Niña 3.4) data\n",
    "\n",
    "The ENSO data is provided as a [CSV file](data/nina34.csv). The file format is easily readable, but\n",
    "1. The first line contains the start and end year of the dataset\n",
    "2. Each line contains the monthly value of the index (from January to December) for every year in the record.\n",
    "3. Missing data are noted by the value -99.99\n",
    "4. The last three lines provide you with some additional information of where the data was acquired from\n",
    "\n",
    "## The fire counts data\n",
    "\n",
    "Since it'd be cumbersome to fit a model to every month, for each year, we have calculated the \"peak fire month\" (e.g. the month which on average tends to have the biggest number of fires) and the number of fire counts on that month per year. All the fire data has been aggregated to a 5 degree grid.\n",
    "\n",
    "The peak fire month is available as a single band georeferenced GeoTIFF file with name [stuff](stuff). \n",
    "\n",
    "The fire counts data is provided as a georeferenced GeoTIFF file with name [`data/FireCounts_2001_2016.tif`](data/FireCounts_2001_2016.tif). Each band represents the fire counts on the most fire active month for every year. \n",
    "\n",
    "The fire counts data is assumed to have a Gaussian uncertainty associated with the estimate, so that for each fire count estimate, there's an associated standard deviation of 10% of the fire counts.\n",
    "\n",
    "## Fitting the model\n",
    "\n",
    "We assume that the relationship between fire counts and the ENSO index at the peak fire month can be approximated by a linear function, e.g. \n",
    "\n",
    "$$\n",
    "N_{fires} = m\\cdot ENSO_{\\textrm{peak month}} + c\n",
    "$$\n",
    "\n",
    "You ought to be able to solve this linear problem as a matrix, and solve it as a matrix (e.g. without using any higher order package.\n",
    "\n",
    "\n",
    "## Deliverables\n",
    "\n",
    "The aim of this exercise is to fit a linear model model to the observations from 2001 to 2014, provide an estimate of the slope and intercept, as well as the associated uncertainty in the parameters. You can do this by providing spatial maps of the value of slope and intercept, and spatial maps of the standar deviation of the slope and intercept. You should also provide a scatter plot of the data, model response for grid the grid cell corresponding to **LATITUDE** and **LONGITUDE**.\n",
    "\n",
    "## Installed software\n",
    "\n",
    "The software installed in this instance are\n",
    "\n",
    "* numpy\n",
    "* scipy\n",
    "* matplotlib\n",
    "* gdal\n",
    "* pandas\n",
    "\n"
   ]
  },
  {
   "cell_type": "code",
   "execution_count": 2,
   "metadata": {},
   "outputs": [],
   "source": []
  },
  {
   "cell_type": "code",
   "execution_count": null,
   "metadata": {},
   "outputs": [],
   "source": []
  }
 ],
 "metadata": {
  "kernelspec": {
   "display_name": "Python 3",
   "language": "python",
   "name": "python3"
  },
  "language_info": {
   "codemirror_mode": {
    "name": "ipython",
    "version": 3
   },
   "file_extension": ".py",
   "mimetype": "text/x-python",
   "name": "python",
   "nbconvert_exporter": "python",
   "pygments_lexer": "ipython3",
   "version": "3.6.7"
  }
 },
 "nbformat": 4,
 "nbformat_minor": 2
}
